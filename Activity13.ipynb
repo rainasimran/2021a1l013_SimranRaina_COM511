{
 "cells": [
  {
   "cell_type": "code",
   "execution_count": 1,
   "id": "b94902e9",
   "metadata": {},
   "outputs": [
    {
     "name": "stdout",
     "output_type": "stream",
     "text": [
      "Grant Parent Class String Parent Class String\n",
      "Child Class Function\n",
      "53\n"
     ]
    }
   ],
   "source": [
    "# Python example to show working of multiple inheritance\n",
    "class grand_parent(object):\n",
    "    def __init__(self):\n",
    "        self.str1 = \"Grant Parent Class String\"\n",
    "\n",
    "\n",
    "class parent(object):\n",
    "    def __init__(self):\n",
    "        self.str2 = \"Parent Class String\"\n",
    "\n",
    "\n",
    "class child(grand_parent, parent):\n",
    "    def __init__(self):\n",
    "\n",
    "        grand_parent.__init__(self)\n",
    "        parent.__init__(self)\n",
    "        \n",
    "    def printStrs(self):\n",
    "        print(self.str1, self.str2)\n",
    "\n",
    "    def printsum(self):\n",
    "        print(\"Child Class Function\")\n",
    "        print(15+19*2)\n",
    "\n",
    "ob = child()\n",
    "ob.printStrs()\n",
    "ob.printsum()"
   ]
  },
  {
   "cell_type": "code",
   "execution_count": null,
   "id": "5f451a7c",
   "metadata": {},
   "outputs": [],
   "source": []
  }
 ],
 "metadata": {
  "kernelspec": {
   "display_name": "Python 3 (ipykernel)",
   "language": "python",
   "name": "python3"
  },
  "language_info": {
   "codemirror_mode": {
    "name": "ipython",
    "version": 3
   },
   "file_extension": ".py",
   "mimetype": "text/x-python",
   "name": "python",
   "nbconvert_exporter": "python",
   "pygments_lexer": "ipython3",
   "version": "3.9.12"
  }
 },
 "nbformat": 4,
 "nbformat_minor": 5
}
