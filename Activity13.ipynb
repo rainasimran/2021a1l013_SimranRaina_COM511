{
 "cells": [
  {
   "cell_type": "code",
   "execution_count": 5,
   "id": "8c5f226c",
   "metadata": {},
   "outputs": [
    {
     "name": "stdout",
     "output_type": "stream",
     "text": [
      "i am Dad\n",
      "i am son\n"
     ]
    }
   ],
   "source": [
    "class dad:\n",
    "    def __init__(self):\n",
    "        print(\"i am Dad\")\n",
    "        \n",
    "class son(dad):\n",
    "    def __init__(self):\n",
    "        super().__init__()\n",
    "        print(\"i am son\")\n",
    "        \n",
    "obj = son()\n"
   ]
  },
  {
   "cell_type": "code",
   "execution_count": null,
   "id": "43fa7ef3",
   "metadata": {},
   "outputs": [],
   "source": []
  },
  {
   "cell_type": "code",
   "execution_count": null,
   "id": "266522bc",
   "metadata": {},
   "outputs": [],
   "source": []
  },
  {
   "cell_type": "code",
   "execution_count": null,
   "id": "3383cde1",
   "metadata": {},
   "outputs": [],
   "source": []
  }
 ],
 "metadata": {
  "kernelspec": {
   "display_name": "Python 3 (ipykernel)",
   "language": "python",
   "name": "python3"
  },
  "language_info": {
   "codemirror_mode": {
    "name": "ipython",
    "version": 3
   },
   "file_extension": ".py",
   "mimetype": "text/x-python",
   "name": "python",
   "nbconvert_exporter": "python",
   "pygments_lexer": "ipython3",
   "version": "3.9.12"
  }
 },
 "nbformat": 4,
 "nbformat_minor": 5
}
